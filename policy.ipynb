{
 "cells": [
  {
   "cell_type": "code",
   "execution_count": 146,
   "metadata": {
    "pycharm": {
     "is_executing": false
    }
   },
   "outputs": [],
   "source": [
    "from importlib import reload\n",
    "import game\n",
    "game = reload(game)\n",
    "from game import Game\n",
    "import random\n",
    "import torch\n",
    "import pandas as pd\n",
    "import collections\n",
    "import matplotlib.pyplot as plt\n",
    "%matplotlib inline\n",
    "import numpy as np\n",
    "from IPython.display import clear_output\n",
    "from torch import nn\n",
    "from torch.optim import Adam\n",
    "from torch.distributions import Categorical\n",
    "\n",
    "import gym\n",
    "# env = gym.make('CartPole-v0').unwrapped"
   ]
  },
  {
   "cell_type": "code",
   "execution_count": 147,
   "outputs": [],
   "source": [
    "device = torch.device('cuda:0' if torch.cuda.is_available() else 'cpu') #позволяет перенести тензор на GPU, если он доступен в системе"
   ],
   "metadata": {
    "collapsed": false,
    "pycharm": {
     "name": "#%%\n",
     "is_executing": false
    }
   }
  },
  {
   "cell_type": "code",
   "execution_count": 148,
   "outputs": [],
   "source": [
    "moving_average = lambda x, **kw: pd.DataFrame({'x':np.asarray(x)}).x.ewm(**kw).mean().values"
   ],
   "metadata": {
    "collapsed": false,
    "pycharm": {
     "name": "#%%\n",
     "is_executing": false
    }
   }
  },
  {
   "cell_type": "code",
   "execution_count": 158,
   "outputs": [],
   "source": [
    "def test_agent(env, agent=None, n_episodes=100):\n",
    "    \"\"\"Runs agent for n_episodes in environment and calclates mean reward.\n",
    "    \n",
    "    Args:\n",
    "        env: The environment for agent to play in\n",
    "        agent: The agent to play with. Defaults to None - \n",
    "            in this case random agent is used.\n",
    "        n_episodes: Number of episodes to play. Defaults to 100.\n",
    "\n",
    "    Returns:\n",
    "        Mean reward for 100 episodes.\n",
    "    \"\"\"\n",
    "    total_reward = []\n",
    "    for episode in range(n_episodes):\n",
    "        episode_reward = 0\n",
    "        observation = env.reset()\n",
    "        t = 0\n",
    "        while True:\n",
    "            if agent:\n",
    "                with torch.no_grad():\n",
    "                    probs = agent(torch.FloatTensor(observation).to(device))\n",
    "                    dist = Categorical(probs)\n",
    "                    action = dist.sample().item()\n",
    "            else:\n",
    "                action = random.randint(0, 1)\n",
    "            observation, reward, done, _ = env.step(action)\n",
    "            episode_reward += reward\n",
    "            t += 1\n",
    "            if done:\n",
    "                # print(\"Episode {} finished after {} timesteps\".format(episode+1, t+1))\n",
    "                break\n",
    "        total_reward.append(episode_reward)\n",
    "                   \n",
    "    return np.mean(total_reward)   "
   ],
   "metadata": {
    "collapsed": false,
    "pycharm": {
     "name": "#%%\n",
     "is_executing": false
    }
   }
  },
  {
   "cell_type": "code",
   "execution_count": 150,
   "outputs": [
    {
     "data": {
      "text/plain": "-1.756"
     },
     "metadata": {},
     "output_type": "execute_result",
     "execution_count": 150
    }
   ],
   "source": [
    "env = Game()\n",
    "test_agent(env, agent=False, n_episodes=100)"
   ],
   "metadata": {
    "collapsed": false,
    "pycharm": {
     "name": "#%%\n",
     "is_executing": false
    }
   }
  },
  {
   "cell_type": "code",
   "execution_count": 151,
   "metadata": {
    "pycharm": {
     "is_executing": false
    }
   },
   "outputs": [],
   "source": [
    "class Policy(nn.Module):\n",
    "    \"\"\"Policy to be used by agent.\n",
    "\n",
    "    Attributes:\n",
    "        state_size: Dimention of the state space of the environment.\n",
    "        act_size: Dimention of the action space of the environment.\n",
    "        hidden_size: Dimention of the hidden state of the agent's policy.\n",
    "    \"\"\"\n",
    "    def __init__(self, state_size, act_size, hidden_size, hidden_size2, hidden_size3):\n",
    "      super(Policy, self).__init__()\n",
    "      self.act = nn.Sequential(\n",
    "                                nn.Linear(state_size, hidden_size),\n",
    "                                nn.ReLU(inplace=True),\n",
    "                                nn.Linear(hidden_size, hidden_size2),\n",
    "                                nn.ReLU(inplace=True),\n",
    "                                nn.Linear(hidden_size2, hidden_size3),\n",
    "                                nn.ReLU(inplace=True),\n",
    "                                nn.Linear(hidden_size3, act_size),\n",
    "                                nn.Softmax(dim=-1)\n",
    "                               )\n",
    "    def forward(self, X):\n",
    "      return self.act(X)"
   ]
  },
  {
   "cell_type": "code",
   "execution_count": 152,
   "outputs": [],
   "source": [
    "def process_traj_batch(policy, batch, discount):\n",
    "    \"\"\"Computes log probabilities for each action \n",
    "        and rewards-to-go for each state in the batch of trajectories.\n",
    "    \n",
    "    Args:\n",
    "        policy: Policy of the agent.\n",
    "        batch (list of list of collections.namedtuple): Batch of trajectories.\n",
    "        discount (float): Discount factor for rewards-to-go calculation.\n",
    "\n",
    "    Returns:\n",
    "        log_probs (list of torch.FloatTensor): List of log probabilities for\n",
    "            each action in the batch of trajectories.\n",
    "        returns (list of rewards-to-go): List of rewards-to-go for \n",
    "            each state in the batch of trajectories.\n",
    "    \"\"\"\n",
    "    log_probs = []\n",
    "    returns = []\n",
    "    \n",
    "    for episode in batch:\n",
    "      for numb, step in enumerate(episode):\n",
    "        returns.append(sum([discount ** i * reward for i, (*_, reward) in enumerate(episode[numb:])]))\n",
    "        probs = policy(step.state)\n",
    "        dist = Categorical(probs)\n",
    "        log_probs.append((dist.log_prob(step.action)))\n",
    "    return log_probs, returns\n"
   ],
   "metadata": {
    "collapsed": false,
    "pycharm": {
     "name": "#%%\n",
     "is_executing": false
    }
   }
  },
  {
   "cell_type": "code",
   "execution_count": 153,
   "outputs": [],
   "source": [
    "STATE_SIZE  = 8 # размерность пространства состояний среды\n",
    "ACT_SIZE = 3 # размерность пространства действий среды\n",
    "HIDDEN_SIZE = 200 # размер скрытого слоя для политики\n",
    "HIDDEN_SIZE2 = 128\n",
    "HIDDEN_SIZE3 = 64\n",
    "NUM_EPISODES = 1000 # количество эпиздов, которые будут сыграны для обучения\n",
    "DISCOUNT = .99 # фактор дисконтирования\n",
    "TRAIN_EVERY = 20"
   ],
   "metadata": {
    "collapsed": false,
    "pycharm": {
     "name": "#%%\n",
     "is_executing": false
    }
   }
  },
  {
   "cell_type": "code",
   "execution_count": 154,
   "outputs": [],
   "source": [
    "policy = Policy(STATE_SIZE, ACT_SIZE, HIDDEN_SIZE, HIDDEN_SIZE2, HIDDEN_SIZE3).to(device)\n",
    "optimizer = Adam(policy.parameters(), lr=1e-2)"
   ],
   "metadata": {
    "collapsed": false,
    "pycharm": {
     "name": "#%%\n",
     "is_executing": false
    }
   }
  },
  {
   "cell_type": "code",
   "execution_count": 155,
   "outputs": [],
   "source": [
    "transition = collections.namedtuple(\"transition\", [\"state\", \"action\", \"reward\"])"
   ],
   "metadata": {
    "collapsed": false,
    "pycharm": {
     "name": "#%%\n",
     "is_executing": false
    }
   }
  },
  {
   "cell_type": "code",
   "execution_count": 156,
   "outputs": [
    {
     "data": {
      "text/plain": "<Figure size 864x432 with 1 Axes>",
      "image/png": "[encoded data removed]"
     },
     "metadata": {
      "needs_background": "light"
     },
     "output_type": "display_data"
    }
   ],
   "source": [
    "returns_history = []\n",
    "traj_batch = []\n",
    "done=False\n",
    "# env = Game()\n",
    "best_model = None\n",
    "best_rewards = 0\n",
    "\n",
    "for i in range(NUM_EPISODES):\n",
    "  state = env.reset()\n",
    "  traj=[]\n",
    "  rewards=0\n",
    "  while not done:\n",
    "      state = torch.FloatTensor(state).to(device)\n",
    "      probs = policy.forward(state)\n",
    "      dist = Categorical(probs)\n",
    "      action = dist.sample()\n",
    "      previos_state = state\n",
    "      state, reward, done, _ = env.step(action.item())\n",
    "      rewards += reward\n",
    "      traj.append(transition(previos_state, action, reward))\n",
    "  done=False\n",
    "  returns_history.append(rewards)\n",
    "  if rewards >= best_rewards:\n",
    "      best_model = policy\n",
    "      best_rewards = rewards\n",
    "  traj_batch.append(traj)\n",
    "\n",
    "  if i % TRAIN_EVERY:\n",
    "      log_probs, returns = process_traj_batch(policy, traj_batch, DISCOUNT)\n",
    "      loss = -(torch.stack(log_probs) * torch.FloatTensor(returns).to(device)).sum()\n",
    "      optimizer.zero_grad()\n",
    "      loss.backward()\n",
    "      optimizer.step()\n",
    "\n",
    "      traj_batch = []\n",
    "\n",
    "  if i % 10:\n",
    "      clear_output(True)\n",
    "      plt.figure(figsize=[12, 6])\n",
    "      plt.title('Returns'); plt.grid()\n",
    "      plt.scatter(np.arange(len(returns_history)), returns_history, alpha=0.1)\n",
    "      plt.plot(moving_average(returns_history, span=10, min_periods=10))\n",
    "      plt.show()"
   ],
   "metadata": {
    "collapsed": false,
    "pycharm": {
     "name": "#%%\n",
     "is_executing": false
    }
   }
  },
  {
   "cell_type": "code",
   "execution_count": 159,
   "outputs": [
    {
     "data": {
      "text/plain": "-0.29200000000000004"
     },
     "metadata": {},
     "output_type": "execute_result",
     "execution_count": 159
    }
   ],
   "source": [
    "# env = Game(drawing=True)\n",
    "test_agent(env, agent=policy, n_episodes=100)"
   ],
   "metadata": {
    "collapsed": false,
    "pycharm": {
     "name": "#%%\n",
     "is_executing": false
    }
   }
  },
  {
   "cell_type": "code",
   "execution_count": null,
   "outputs": [],
   "source": [],
   "metadata": {
    "collapsed": false,
    "pycharm": {
     "name": "#%%\n",
     "is_executing": false
    }
   }
  },
  {
   "cell_type": "code",
   "execution_count": null,
   "outputs": [],
   "source": [
    "\n"
   ],
   "metadata": {
    "collapsed": false,
    "pycharm": {
     "name": "#%%\n",
     "is_executing": false
    }
   }
  }
 ],
 "metadata": {
  "kernelspec": {
   "display_name": "Python 3",
   "language": "python",
   "name": "python3"
  },
  "language_info": {
   "codemirror_mode": {
    "name": "ipython",
    "version": 3
   },
   "file_extension": ".py",
   "mimetype": "text/x-python",
   "name": "python",
   "nbconvert_exporter": "python",
   "pygments_lexer": "ipython3",
   "version": "3.7.6"
  },
  "pycharm": {
   "stem_cell": {
    "cell_type": "raw",
    "source": [],
    "metadata": {
     "collapsed": false
    }
   }
  }
 },
 "nbformat": 4,
 "nbformat_minor": 1
}